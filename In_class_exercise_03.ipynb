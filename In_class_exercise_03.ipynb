{
  "nbformat": 4,
  "nbformat_minor": 0,
  "metadata": {
    "kernelspec": {
      "display_name": "Python 3",
      "language": "python",
      "name": "python3"
    },
    "language_info": {
      "codemirror_mode": {
        "name": "ipython",
        "version": 3
      },
      "file_extension": ".py",
      "mimetype": "text/x-python",
      "name": "python",
      "nbconvert_exporter": "python",
      "pygments_lexer": "ipython3",
      "version": "3.7.4"
    },
    "colab": {
      "name": "In-class-exercise-03.ipynb",
      "provenance": [],
      "collapsed_sections": [],
      "include_colab_link": true
    }
  },
  "cells": [
    {
      "cell_type": "markdown",
      "metadata": {
        "id": "view-in-github",
        "colab_type": "text"
      },
      "source": [
        "<a href=\"https://colab.research.google.com/github/RamaSiritha/RamaSiritha_INFO5731_Spring2021/blob/main/In_class_exercise_03.ipynb\" target=\"_parent\"><img src=\"https://colab.research.google.com/assets/colab-badge.svg\" alt=\"Open In Colab\"/></a>"
      ]
    },
    {
      "cell_type": "markdown",
      "metadata": {
        "id": "QbX_5vuAjDsa"
      },
      "source": [
        "## The third In-class-exercise (9/16/2020, 20 points in total)"
      ]
    },
    {
      "cell_type": "markdown",
      "metadata": {
        "id": "CugmG-kZjDsv"
      },
      "source": [
        "The purpose of this exercise is to under users' information needs, then collect the data for analysis."
      ]
    },
    {
      "cell_type": "markdown",
      "metadata": {
        "id": "iKny69hYjDs6"
      },
      "source": [
        "Question 1 (8 points): Describe an interesting research question (or practical question) you have in mind, what kind of data should be collected to answer the question(s)? How many data needed for the analysis? The detail steps for collecting and save the data. "
      ]
    },
    {
      "cell_type": "code",
      "metadata": {
        "id": "l-aXuTC5jDtB"
      },
      "source": [
        "# Your answer here (no code for this question, write down your answer as detail as possible for the above questions):\n",
        "\n",
        "'''\n",
        "Research question:\n",
        "What is the total rating of the Apple airpods and also to check whether the product has positive or negative reviews. What are the \n",
        "highest and lowest ratings and reviews for the product. The data is the reviews of Apple airpods. The website I have taken is the \n",
        "Amazon where we can get a lot of reviews which would help us conduct analysis. We can use the reviews for doing the analysis whether \n",
        "it is a positive or negative rating. We need a minimum of 500 reviews to get accurate results.\n",
        "Steps for collecting and saving data:\n",
        "The library Beautiful Soup has been used to get the information from the amazon website.\n",
        "The reviews are extracted using the classname and are appended to a list.\n",
        "The iterations are done for 200 times for extracting minimum of 500 reviews.\n",
        "The link is given dynamically in the code.\n",
        "I created a dataframe that takes the data from list and then stored in a csv file. \n",
        "\n",
        "\n",
        "\n",
        "\n",
        "\n",
        "\n",
        "'''"
      ],
      "execution_count": null,
      "outputs": []
    },
    {
      "cell_type": "markdown",
      "metadata": {
        "id": "UfdPvonxjDtI"
      },
      "source": [
        "Question 2 (12 points): Write python code to collect 500 items of the data you plan to collect above."
      ]
    },
    {
      "cell_type": "code",
      "metadata": {
        "colab": {
          "base_uri": "https://localhost:8080/",
          "height": 418
        },
        "id": "hL5CWaR4jDtP",
        "outputId": "0ecad9af-9d01-4800-8176-ca8a8248b5fd"
      },
      "source": [
        "# You code here (Please add comments in the code):\n",
        "import requests\n",
        "from bs4 import BeautifulSoup\n",
        "import pandas as pd\n",
        "mt = [] \n",
        "st =[] \n",
        "for number in range(200):\n",
        "  #The link for collecting the data\n",
        "  link = \"https://www.amazon.in/LG-Refrigerator-GL-I292RPZL-APZZEBN-Inverter-Compressor/product-reviews/B01DM8HR1Q/ref=cm_cr_dp_d_show_all_btm?ie=UTF8&reviewerType=all_reviews\" + str(number) \n",
        "  page = requests.get(link) \n",
        "  s = BeautifulSoup(page.text, 'html.parser')\n",
        "  # To get review heading using class name\n",
        "  main_reviews = s.find_all(class_='a-size-base a-link-normal review-title a-color-base review-title-content a-text-bold') \n",
        "  #print(main_reviews)\n",
        "  # To get full review by class name\n",
        "  text_reviews = s.find_all(class_='a-size-base review-text review-text-content') \n",
        "  #print(text_reviews)\n",
        "  for ele, sub_ele in zip(main_reviews, text_reviews) : \n",
        "      mt.append(ele.text) \n",
        "      st.append(sub_ele.text)\n",
        "d = pd.DataFrame(list(zip(mt, st)), columns =['Glimpse of Review', 'Full Review'])  \n",
        "print(\"Length of data frame {0}\".format(len(d)))\n",
        "d\n"
      ],
      "execution_count": 1,
      "outputs": [
        {
          "output_type": "stream",
          "text": [
            "Length of data frame 580\n"
          ],
          "name": "stdout"
        },
        {
          "output_type": "execute_result",
          "data": {
            "text/html": [
              "<div>\n",
              "<style scoped>\n",
              "    .dataframe tbody tr th:only-of-type {\n",
              "        vertical-align: middle;\n",
              "    }\n",
              "\n",
              "    .dataframe tbody tr th {\n",
              "        vertical-align: top;\n",
              "    }\n",
              "\n",
              "    .dataframe thead th {\n",
              "        text-align: right;\n",
              "    }\n",
              "</style>\n",
              "<table border=\"1\" class=\"dataframe\">\n",
              "  <thead>\n",
              "    <tr style=\"text-align: right;\">\n",
              "      <th></th>\n",
              "      <th>Glimpse of Review</th>\n",
              "      <th>Full Review</th>\n",
              "    </tr>\n",
              "  </thead>\n",
              "  <tbody>\n",
              "    <tr>\n",
              "      <th>0</th>\n",
              "      <td>\\nBest on budget dont buy others in this range...</td>\n",
              "      <td>\\n\\n  Best fridge on budget to notch perfomanc...</td>\n",
              "    </tr>\n",
              "    <tr>\n",
              "      <th>1</th>\n",
              "      <td>\\nRequest for replacement\\n</td>\n",
              "      <td>\\n\\n  Received an damaged product (side corner...</td>\n",
              "    </tr>\n",
              "    <tr>\n",
              "      <th>2</th>\n",
              "      <td>\\nWater leakage from Freezer...\\n</td>\n",
              "      <td>\\n\\n  Caution: Reading this is going to take a...</td>\n",
              "    </tr>\n",
              "    <tr>\n",
              "      <th>3</th>\n",
              "      <td>\\nReally awesome stuff.\\n</td>\n",
              "      <td>\\n\\n  I brought this for 22990 after instant c...</td>\n",
              "    </tr>\n",
              "    <tr>\n",
              "      <th>4</th>\n",
              "      <td>\\nPathetic | Harassed\\n</td>\n",
              "      <td>\\n\\n  LG 260 L 4 Star Frost Free Double Door R...</td>\n",
              "    </tr>\n",
              "    <tr>\n",
              "      <th>...</th>\n",
              "      <td>...</td>\n",
              "      <td>...</td>\n",
              "    </tr>\n",
              "    <tr>\n",
              "      <th>575</th>\n",
              "      <td>\\nBad Customer care service from LG\\n</td>\n",
              "      <td>\\n\\n  I didn't receive the keys for the refrig...</td>\n",
              "    </tr>\n",
              "    <tr>\n",
              "      <th>576</th>\n",
              "      <td>\\nSuch a waste of money. Do not buy electronic...</td>\n",
              "      <td>\\n\\n  Highly disappointed. This was my first e...</td>\n",
              "    </tr>\n",
              "    <tr>\n",
              "      <th>577</th>\n",
              "      <td>\\nFunctionality is not good\\n</td>\n",
              "      <td>\\n\\n  The product is not functioning properly,...</td>\n",
              "    </tr>\n",
              "    <tr>\n",
              "      <th>578</th>\n",
              "      <td>\\nCOOLING ISSUE IN 18 MONTHS..not worth\\n</td>\n",
              "      <td>\\n\\n  I bought this fridge keeping in mind tha...</td>\n",
              "    </tr>\n",
              "    <tr>\n",
              "      <th>579</th>\n",
              "      <td>\\nNice Product\\n</td>\n",
              "      <td>\\n\\n  Bought it in only 21490.Pros:1. Inverter...</td>\n",
              "    </tr>\n",
              "  </tbody>\n",
              "</table>\n",
              "<p>580 rows × 2 columns</p>\n",
              "</div>"
            ],
            "text/plain": [
              "                                     Glimpse of Review                                        Full Review\n",
              "0    \\nBest on budget dont buy others in this range...  \\n\\n  Best fridge on budget to notch perfomanc...\n",
              "1                          \\nRequest for replacement\\n  \\n\\n  Received an damaged product (side corner...\n",
              "2                    \\nWater leakage from Freezer...\\n  \\n\\n  Caution: Reading this is going to take a...\n",
              "3                            \\nReally awesome stuff.\\n  \\n\\n  I brought this for 22990 after instant c...\n",
              "4                              \\nPathetic | Harassed\\n  \\n\\n  LG 260 L 4 Star Frost Free Double Door R...\n",
              "..                                                 ...                                                ...\n",
              "575              \\nBad Customer care service from LG\\n  \\n\\n  I didn't receive the keys for the refrig...\n",
              "576  \\nSuch a waste of money. Do not buy electronic...  \\n\\n  Highly disappointed. This was my first e...\n",
              "577                      \\nFunctionality is not good\\n  \\n\\n  The product is not functioning properly,...\n",
              "578          \\nCOOLING ISSUE IN 18 MONTHS..not worth\\n  \\n\\n  I bought this fridge keeping in mind tha...\n",
              "579                                   \\nNice Product\\n  \\n\\n  Bought it in only 21490.Pros:1. Inverter...\n",
              "\n",
              "[580 rows x 2 columns]"
            ]
          },
          "metadata": {
            "tags": []
          },
          "execution_count": 1
        }
      ]
    }
  ]
}