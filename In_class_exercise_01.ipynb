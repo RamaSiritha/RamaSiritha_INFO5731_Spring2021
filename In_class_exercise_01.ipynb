{
  "nbformat": 4,
  "nbformat_minor": 0,
  "metadata": {
    "colab": {
      "name": "In_class_exercise_01.ipynb",
      "provenance": [],
      "collapsed_sections": [],
      "include_colab_link": true
    },
    "kernelspec": {
      "display_name": "Python 3",
      "language": "python",
      "name": "python3"
    },
    "language_info": {
      "codemirror_mode": {
        "name": "ipython",
        "version": 3
      },
      "file_extension": ".py",
      "mimetype": "text/x-python",
      "name": "python",
      "nbconvert_exporter": "python",
      "pygments_lexer": "ipython3",
      "version": "3.7.4"
    }
  },
  "cells": [
    {
      "cell_type": "markdown",
      "metadata": {
        "id": "view-in-github",
        "colab_type": "text"
      },
      "source": [
        "<a href=\"https://colab.research.google.com/github/RamaSiritha/RamaSiritha_INFO5731_Spring2021/blob/main/In_class_exercise_01.ipynb\" target=\"_parent\"><img src=\"https://colab.research.google.com/assets/colab-badge.svg\" alt=\"Open In Colab\"/></a>"
      ]
    },
    {
      "cell_type": "markdown",
      "metadata": {
        "id": "DymRJbxDBCnf"
      },
      "source": [
        "# **The first In-class-exercise (9/2/2020, 20 points in total)**"
      ]
    },
    {
      "cell_type": "markdown",
      "metadata": {
        "id": "03jb4GZsBkBS"
      },
      "source": [
        "(1) Write a Python program to calculate the length of a string. (2 points)"
      ]
    },
    {
      "cell_type": "code",
      "metadata": {
        "id": "YaGLbSHHB8Ej",
        "colab": {
          "base_uri": "https://localhost:8080/"
        },
        "outputId": "df426a5d-7504-43b5-d588-1cb8b9d7c4fb"
      },
      "source": [
        "# For calculating the length of a string\n",
        "ls = 'Hello.This is for the length of the string'\n",
        "print(len(ls))\n",
        "\n",
        "# Using the inbuilt function for taking input from user\n",
        "ls1 = input('Enter a string: ')\n",
        "print(len(ls1))"
      ],
      "execution_count": null,
      "outputs": [
        {
          "output_type": "stream",
          "text": [
            "42\n",
            "Enter a string: mds,fmc,\n",
            "8\n"
          ],
          "name": "stdout"
        }
      ]
    },
    {
      "cell_type": "markdown",
      "metadata": {
        "id": "jJDe71iLB616"
      },
      "source": [
        "(2) Write a Python program to count the number of characters in a string. (2 points)\n",
        "\n",
        "Sample String : 'google.com‘, \n",
        "\n",
        "Expected Result : {'o': 3, 'g': 2, '.': 1, 'e': 1, 'l': 1, 'm': 1, 'c': 1}"
      ]
    },
    {
      "cell_type": "code",
      "metadata": {
        "id": "MtKskTzbCLaU",
        "colab": {
          "base_uri": "https://localhost:8080/"
        },
        "outputId": "bfb19f1b-1ae5-4b87-e2be-568be1efb513"
      },
      "source": [
        "#taking input from the user\n",
        "a=input('Enter a string: ')\n",
        "def countchar(a):\n",
        "  nc={} #initializing a dictonary\n",
        "  for n in a:\n",
        "     x=nc.keys()\n",
        "     if n in x:\n",
        "       nc[n]+=1\n",
        "     else:\n",
        "       nc[n]=1\n",
        "  return nc\n",
        "print(countchar(a))\n",
        "   \n"
      ],
      "execution_count": 39,
      "outputs": [
        {
          "output_type": "stream",
          "text": [
            "Enter a string: amazing\n",
            "{'a': 2, 'm': 1, 'z': 1, 'i': 1, 'n': 1, 'g': 1}\n"
          ],
          "name": "stdout"
        }
      ]
    },
    {
      "cell_type": "markdown",
      "metadata": {
        "id": "55W9AMdXCSpV"
      },
      "source": [
        "(3) Write a Python program to sum all the items in a list. (2 points)"
      ]
    },
    {
      "cell_type": "code",
      "metadata": {
        "id": "I57NXsauCec2",
        "colab": {
          "base_uri": "https://localhost:8080/"
        },
        "outputId": "a79eb008-cbe6-4097-cb51-95e9f9f509ec"
      },
      "source": [
        "# creating a list and calculating sum\n",
        "sumlist = [1,2,3,4,5]\n",
        "print(sum(sumlist)) #using sum function calculate sum of values"
      ],
      "execution_count": 40,
      "outputs": [
        {
          "output_type": "stream",
          "text": [
            "15\n"
          ],
          "name": "stdout"
        }
      ]
    },
    {
      "cell_type": "markdown",
      "metadata": {
        "id": "4ulBZ6yhCi9F"
      },
      "source": [
        "(4) Write a Python program to get a string from a given string where all occurrences of its first char have been changed to '\\$', except the first char itself. (2 points)\n",
        "\n",
        "Sample String : 'restart‘, \n",
        "\n",
        "Expected Result : 'resta\\$t'"
      ]
    },
    {
      "cell_type": "code",
      "metadata": {
        "id": "Fj0XhwbBCw2o",
        "colab": {
          "base_uri": "https://localhost:8080/"
        },
        "outputId": "9cd16813-b779-447c-fc6c-5932cd53a548"
      },
      "source": [
        "# write your answer here\n",
        "a = input('Enter a string:')\n",
        "def replacechar(a):\n",
        "  s = a[0]             #taking the first char which is to be changed\n",
        "  a = a.replace(s,'$') # Using replace function to replace with $\n",
        "  return s+a[1:]\n",
        "replacedstrin = replacechar(a)\n",
        "print(replacedstrin)\n",
        "\n"
      ],
      "execution_count": 58,
      "outputs": [
        {
          "output_type": "stream",
          "text": [
            "Enter a string:streets\n",
            "street$\n"
          ],
          "name": "stdout"
        }
      ]
    },
    {
      "cell_type": "markdown",
      "metadata": {
        "id": "_bIP7s1MCzue"
      },
      "source": [
        "(5) Write a program with python which could accept two parameter a and b to calculate and output the result of S, where \n",
        "\n",
        "$\\ S=3.14*(1+a/b)^3$ (3 points)\n",
        "\n"
      ]
    },
    {
      "cell_type": "code",
      "metadata": {
        "id": "w79QilHXD3Mg",
        "colab": {
          "base_uri": "https://localhost:8080/"
        },
        "outputId": "cd4303fd-bee6-476d-bf18-5471c74f4027"
      },
      "source": [
        "# write your answer here\n",
        "a=int(input('Enter a number:'))\n",
        "b=int(input('Enter another number:'))\n",
        "pi=3.14\n",
        "S = pi*(1+(a/b))**3\n",
        "print(S)\n"
      ],
      "execution_count": 92,
      "outputs": [
        {
          "output_type": "stream",
          "text": [
            "Enter a number:4\n",
            "Enter another number:5\n",
            "18.312480000000004\n"
          ],
          "name": "stdout"
        }
      ]
    },
    {
      "cell_type": "markdown",
      "metadata": {
        "id": "xCa2bK9aD4Q3"
      },
      "source": [
        "(6) Write a Python program to concatenate following dictionaries to create a new one. (3 points)\n",
        "\n",
        "Sample Dictionary : dic1={1:10, 2:20}, dic2={3:30, 4:40}, dic3={5:50,6:60}, \n",
        "\n",
        "Expected Result : {1: 10, 2: 20, 3: 30, 4: 40, 5: 50, 6: 60}\n"
      ]
    },
    {
      "cell_type": "code",
      "metadata": {
        "id": "_z4aLqAbEET1",
        "colab": {
          "base_uri": "https://localhost:8080/"
        },
        "outputId": "387be9f4-08b0-4ce6-ed9b-d07cb443911d"
      },
      "source": [
        "# write your answer here\n",
        "dict1={1:10, 2:20}\n",
        "dict2={3:30, 4:40}\n",
        "dict3={5:50,6:60}\n",
        "resdic={}\n",
        "for n in (dict1,dict2,dict3): resdic.update(n)\n",
        "print(resdic)"
      ],
      "execution_count": 106,
      "outputs": [
        {
          "output_type": "stream",
          "text": [
            "{1: 10, 2: 20, 3: 30, 4: 40, 5: 50, 6: 60}\n"
          ],
          "name": "stdout"
        }
      ]
    },
    {
      "cell_type": "markdown",
      "metadata": {
        "id": "0v48Vqa7FrQh"
      },
      "source": [
        "(7) Write a Python program to check whether an element exists within a tuple. (3 points)"
      ]
    },
    {
      "cell_type": "code",
      "metadata": {
        "id": "7WEmgq-DF2P1",
        "colab": {
          "base_uri": "https://localhost:8080/"
        },
        "outputId": "dff4ceb3-06e4-4bab-ae6d-f0ed99ec4001"
      },
      "source": [
        "# write your answer here\n",
        "tup=(1,2,3,8,6,'e','d')\n",
        "print(\"e\" in tup)\n"
      ],
      "execution_count": 111,
      "outputs": [
        {
          "output_type": "stream",
          "text": [
            "True\n"
          ],
          "name": "stdout"
        }
      ]
    },
    {
      "cell_type": "markdown",
      "metadata": {
        "id": "vD5PYLMuGga_"
      },
      "source": [
        "(8) Write a Python program to find maximum and the minimum value in a set. (3 points)"
      ]
    },
    {
      "cell_type": "code",
      "metadata": {
        "id": "t0D5kdJUGjjw",
        "colab": {
          "base_uri": "https://localhost:8080/"
        },
        "outputId": "3d5bdf05-4757-485e-cd2a-b1aaa7a6af07"
      },
      "source": [
        "# write your answer here\n",
        "\n",
        "x=set(input('enter values for a set:'))\n",
        "print(min(x))\n",
        "print(max(x))\n"
      ],
      "execution_count": 90,
      "outputs": [
        {
          "output_type": "stream",
          "text": [
            "enter values for a set:15364384531\n",
            "1\n",
            "8\n"
          ],
          "name": "stdout"
        }
      ]
    },
    {
      "cell_type": "markdown",
      "metadata": {
        "id": "uHkd-y5VhVWC"
      },
      "source": [
        "(9) Write a Python program to randomly divide the students in this class into five groups for term projects, each group should have at least 3 students but no more than 5 students (including 5). Here is the students list: (3 points for extra)\n",
        "\n",
        "studnet_list = ['vmb0067','pc0353','snd0097','yye0005','sg0940','bk0301','rak0120','rrk0058','spk0057','vl0135','nm0547','pn0159',\n",
        "                'msp0174','dd0420','ds0761','rs0850','ss1995','at0739','at0768','mv0299','tv0119','dy0091']"
      ]
    },
    {
      "cell_type": "code",
      "metadata": {
        "id": "3iGbmcOBhTwy",
        "colab": {
          "base_uri": "https://localhost:8080/"
        },
        "outputId": "4a6e7a5f-387a-4c48-b975-3ca769a53e54"
      },
      "source": [
        "# write your answer here\n",
        "import random\n",
        "student_list = ['vmb0067','pc0353','snd0097','yye0005','sg0940','bk0301','rak0120','rrk0058','spk0057','vl0135','nm0547','pn0159', 'msp0174','dd0420','ds0761','rs0850','ss1995','at0739','at0768','mv0299','tv0119','dy0091',\n",
        "                'sk0083','mk0852','sr0123','kr1176','nr0215','gh0864']\n",
        "for i in range(5):\n",
        "  divlist=random.choices(student_list,k=4)\n",
        "  student_list=[i for i in student_list if i not in divlist]\n",
        "  print(\"group:\", divlist)"
      ],
      "execution_count": 150,
      "outputs": [
        {
          "output_type": "stream",
          "text": [
            "group: ['rak0120', 'nm0547', 'nr0215', 'at0739']\n",
            "group: ['msp0174', 'sk0083', 'ss1995', 'yye0005']\n",
            "group: ['sg0940', 'sg0940', 'spk0057', 'mk0852']\n",
            "group: ['tv0119', 'dd0420', 'dy0091', 'bk0301']\n",
            "group: ['sr0123', 'mv0299', 'snd0097', 'ds0761']\n"
          ],
          "name": "stdout"
        }
      ]
    }
  ]
}